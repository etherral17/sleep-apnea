{
  "nbformat": 4,
  "nbformat_minor": 0,
  "metadata": {
    "colab": {
      "provenance": [],
      "gpuType": "T4"
    },
    "kernelspec": {
      "name": "python3",
      "display_name": "Python 3"
    },
    "language_info": {
      "name": "python"
    },
    "accelerator": "GPU"
  },
  "cells": [
    {
      "cell_type": "code",
      "execution_count": null,
      "metadata": {
        "id": "hIpQXPqruHfh"
      },
      "outputs": [],
      "source": []
    },
    {
      "cell_type": "code",
      "source": [
        "import numpy as np\n",
        "import pandas as pd\n",
        "import tensorflow as tf\n",
        "from tensorflow.keras.models import Sequential\n",
        "from tensorflow.keras.layers import LSTM, Dense, Dropout\n",
        "from tensorflow.keras.optimizers import Adam\n",
        "from sklearn.preprocessing import StandardScaler, LabelEncoder\n",
        "from sklearn.model_selection import train_test_split\n",
        "\n",
        "# -------------------------\n",
        "# Load & Preprocess Data\n",
        "# -------------------------\n",
        "df = pd.read_csv(\"/content/SC4001E0_comb.csv\")\n",
        "\n",
        "# Selecting relevant features\n",
        "features = ['time', 'EEG Fpz-Cz', 'EEG Pz-Oz', 'EOG horizontal', 'Resp oro-nasal',\n",
        "       'EMG submental', 'Temp rectal', 'Event marker']\n",
        "target_sleep_stage = \"sleep_stage\"  # Multi-class classification (Wake, Light, Deep, REM)\n",
        "\n",
        "# Encode Sleep Stage labels (e.g., Wake=0, Light=1, Deep=2, REM=3)\n",
        "label_encoder = LabelEncoder()\n",
        "df[target_sleep_stage] = label_encoder.fit_transform(df[target_sleep_stage])\n",
        "\n",
        "# Normalize features\n",
        "scaler = StandardScaler()\n",
        "df[features] = scaler.fit_transform(df[features])\n",
        "\n",
        "# Convert to numpy arrays\n",
        "X = df[features].values\n",
        "y_sleep_stage = df[target_sleep_stage].values  # Multi-class output\n",
        "\n",
        "# -------------------------\n",
        "# Reshape Data for LSTM\n",
        "# -------------------------\n",
        "SEQ_LENGTH = 30  # Use last 30 timesteps for prediction\n",
        "\n",
        "def create_sequences(X, y_sleep_stage, seq_length):\n",
        "    Xs, ys_sleep = [], []\n",
        "    for i in range(len(X) - seq_length):\n",
        "        Xs.append(X[i:i + seq_length])\n",
        "        ys_sleep.append(y_sleep_stage[i + seq_length])\n",
        "    return np.array(Xs), np.array(ys_sleep)\n",
        "\n",
        "X_seq, y_sleep_seq = create_sequences(X, y_sleep_stage, SEQ_LENGTH)\n",
        "\n",
        "# Split into train and test sets\n",
        "X_train, X_test, y_train, y_test = train_test_split(X_seq, y_sleep_seq, test_size=0.2, random_state=42)\n",
        "\n",
        "# -------------------------\n",
        "# Build LSTM Model\n",
        "# -------------------------\n",
        "model = Sequential([\n",
        "    LSTM(128, return_sequences=True, input_shape=(SEQ_LENGTH, len(features))),\n",
        "    Dropout(0.3),\n",
        "    LSTM(64),\n",
        "    Dropout(0.3),\n",
        "\n",
        "    # Output for Sleep Stage Classification\n",
        "    Dense(32, activation='relu'),\n",
        "    Dense(4, activation='softmax')  # 4 classes: Wake, Light, Deep, REM\n",
        "])\n",
        "\n",
        "# -------------------------\n",
        "# Compile Model\n",
        "# -------------------------\n",
        "model.compile(optimizer=Adam(learning_rate=0.001),\n",
        "              loss=\"sparse_categorical_crossentropy\",\n",
        "              metrics=[\"accuracy\"])\n",
        "\n",
        "# -------------------------\n",
        "# Train Model\n",
        "# -------------------------\n",
        "history = model.fit(X_train, y_train, epochs=30, batch_size=32, validation_data=(X_test, y_test))\n",
        "\n",
        "# -------------------------\n",
        "# Evaluate Model\n",
        "# -------------------------\n",
        "loss, accuracy = model.evaluate(X_test, y_test)\n",
        "print(f\"Sleep Stage Classification Accuracy: {accuracy:.2f}\")\n"
      ],
      "metadata": {
        "colab": {
          "base_uri": "https://localhost:8080/"
        },
        "id": "MoCh6kyluQQ6",
        "outputId": "74ba0fbd-bbf5-49a3-ce9a-9ea79ce868d3"
      },
      "execution_count": null,
      "outputs": [
        {
          "metadata": {
            "tags": null
          },
          "name": "stderr",
          "output_type": "stream",
          "text": [
            "/usr/local/lib/python3.11/dist-packages/keras/src/layers/rnn/rnn.py:200: UserWarning: Do not pass an `input_shape`/`input_dim` argument to a layer. When using Sequential models, prefer using an `Input(shape)` object as the first layer in the model instead.\n",
            "  super().__init__(**kwargs)\n"
          ]
        },
        {
          "output_type": "stream",
          "name": "stdout",
          "text": [
            "Epoch 1/30\n",
            "\u001b[1m5332/5332\u001b[0m \u001b[32m━━━━━━━━━━━━━━━━━━━━\u001b[0m\u001b[37m\u001b[0m \u001b[1m348s\u001b[0m 64ms/step - accuracy: 0.9988 - loss: 0.0154 - val_accuracy: 1.0000 - val_loss: 4.8797e-09\n",
            "Epoch 2/30\n",
            "\u001b[1m5332/5332\u001b[0m \u001b[32m━━━━━━━━━━━━━━━━━━━━\u001b[0m\u001b[37m\u001b[0m \u001b[1m411s\u001b[0m 70ms/step - accuracy: 1.0000 - loss: 1.0806e-07 - val_accuracy: 1.0000 - val_loss: 2.7948e-12\n",
            "Epoch 3/30\n",
            "\u001b[1m5332/5332\u001b[0m \u001b[32m━━━━━━━━━━━━━━━━━━━━\u001b[0m\u001b[37m\u001b[0m \u001b[1m378s\u001b[0m 69ms/step - accuracy: 1.0000 - loss: 5.5625e-09 - val_accuracy: 1.0000 - val_loss: 0.0000e+00\n",
            "Epoch 4/30\n",
            "\u001b[1m5332/5332\u001b[0m \u001b[32m━━━━━━━━━━━━━━━━━━━━\u001b[0m\u001b[37m\u001b[0m \u001b[1m325s\u001b[0m 61ms/step - accuracy: 1.0000 - loss: 4.5906e-10 - val_accuracy: 1.0000 - val_loss: 0.0000e+00\n",
            "Epoch 5/30\n",
            "\u001b[1m5332/5332\u001b[0m \u001b[32m━━━━━━━━━━━━━━━━━━━━\u001b[0m\u001b[37m\u001b[0m \u001b[1m391s\u001b[0m 63ms/step - accuracy: 1.0000 - loss: 3.7158e-11 - val_accuracy: 1.0000 - val_loss: 0.0000e+00\n",
            "Epoch 6/30\n",
            "\u001b[1m5332/5332\u001b[0m \u001b[32m━━━━━━━━━━━━━━━━━━━━\u001b[0m\u001b[37m\u001b[0m \u001b[1m330s\u001b[0m 62ms/step - accuracy: 1.0000 - loss: 8.5632e-12 - val_accuracy: 1.0000 - val_loss: 0.0000e+00\n",
            "Epoch 7/30\n",
            "\u001b[1m5332/5332\u001b[0m \u001b[32m━━━━━━━━━━━━━━━━━━━━\u001b[0m\u001b[37m\u001b[0m \u001b[1m384s\u001b[0m 62ms/step - accuracy: 1.0000 - loss: 1.5717e-11 - val_accuracy: 1.0000 - val_loss: 0.0000e+00\n",
            "Epoch 8/30\n",
            "\u001b[1m5332/5332\u001b[0m \u001b[32m━━━━━━━━━━━━━━━━━━━━\u001b[0m\u001b[37m\u001b[0m \u001b[1m382s\u001b[0m 62ms/step - accuracy: 1.0000 - loss: 3.6577e-12 - val_accuracy: 1.0000 - val_loss: 0.0000e+00\n",
            "Epoch 9/30\n",
            "\u001b[1m5332/5332\u001b[0m \u001b[32m━━━━━━━━━━━━━━━━━━━━\u001b[0m\u001b[37m\u001b[0m \u001b[1m379s\u001b[0m 62ms/step - accuracy: 1.0000 - loss: 5.1380e-12 - val_accuracy: 1.0000 - val_loss: 0.0000e+00\n",
            "Epoch 10/30\n",
            "\u001b[1m5332/5332\u001b[0m \u001b[32m━━━━━━━━━━━━━━━━━━━━\u001b[0m\u001b[37m\u001b[0m \u001b[1m314s\u001b[0m 59ms/step - accuracy: 1.0000 - loss: 6.3593e-12 - val_accuracy: 1.0000 - val_loss: 0.0000e+00\n",
            "Epoch 11/30\n",
            "\u001b[1m5332/5332\u001b[0m \u001b[32m━━━━━━━━━━━━━━━━━━━━\u001b[0m\u001b[37m\u001b[0m \u001b[1m320s\u001b[0m 58ms/step - accuracy: 1.0000 - loss: 3.5476e-12 - val_accuracy: 1.0000 - val_loss: 0.0000e+00\n",
            "Epoch 12/30\n",
            "\u001b[1m5332/5332\u001b[0m \u001b[32m━━━━━━━━━━━━━━━━━━━━\u001b[0m\u001b[37m\u001b[0m \u001b[1m328s\u001b[0m 62ms/step - accuracy: 1.0000 - loss: 0.0000e+00 - val_accuracy: 1.0000 - val_loss: 0.0000e+00\n",
            "Epoch 13/30\n",
            "\u001b[1m5332/5332\u001b[0m \u001b[32m━━━━━━━━━━━━━━━━━━━━\u001b[0m\u001b[37m\u001b[0m \u001b[1m383s\u001b[0m 62ms/step - accuracy: 1.0000 - loss: 1.4887e-12 - val_accuracy: 1.0000 - val_loss: 0.0000e+00\n",
            "Epoch 14/30\n",
            "\u001b[1m5332/5332\u001b[0m \u001b[32m━━━━━━━━━━━━━━━━━━━━\u001b[0m\u001b[37m\u001b[0m \u001b[1m382s\u001b[0m 62ms/step - accuracy: 1.0000 - loss: 0.0000e+00 - val_accuracy: 1.0000 - val_loss: 0.0000e+00\n",
            "Epoch 15/30\n",
            "\u001b[1m5332/5332\u001b[0m \u001b[32m━━━━━━━━━━━━━━━━━━━━\u001b[0m\u001b[37m\u001b[0m \u001b[1m382s\u001b[0m 62ms/step - accuracy: 1.0000 - loss: 0.0000e+00 - val_accuracy: 1.0000 - val_loss: 0.0000e+00\n",
            "Epoch 16/30\n",
            "\u001b[1m5332/5332\u001b[0m \u001b[32m━━━━━━━━━━━━━━━━━━━━\u001b[0m\u001b[37m\u001b[0m \u001b[1m382s\u001b[0m 62ms/step - accuracy: 1.0000 - loss: 2.0788e-12 - val_accuracy: 1.0000 - val_loss: 0.0000e+00\n",
            "Epoch 17/30\n",
            "\u001b[1m5332/5332\u001b[0m \u001b[32m━━━━━━━━━━━━━━━━━━━━\u001b[0m\u001b[37m\u001b[0m \u001b[1m385s\u001b[0m 62ms/step - accuracy: 1.0000 - loss: 9.8689e-13 - val_accuracy: 1.0000 - val_loss: 0.0000e+00\n",
            "Epoch 18/30\n",
            "\u001b[1m5332/5332\u001b[0m \u001b[32m━━━━━━━━━━━━━━━━━━━━\u001b[0m\u001b[37m\u001b[0m \u001b[1m368s\u001b[0m 60ms/step - accuracy: 1.0000 - loss: 3.4014e-13 - val_accuracy: 1.0000 - val_loss: 0.0000e+00\n",
            "Epoch 19/30\n",
            "\u001b[1m5332/5332\u001b[0m \u001b[32m━━━━━━━━━━━━━━━━━━━━\u001b[0m\u001b[37m\u001b[0m \u001b[1m339s\u001b[0m 63ms/step - accuracy: 1.0000 - loss: 0.0000e+00 - val_accuracy: 1.0000 - val_loss: 0.0000e+00\n",
            "Epoch 20/30\n",
            "\u001b[1m5332/5332\u001b[0m \u001b[32m━━━━━━━━━━━━━━━━━━━━\u001b[0m\u001b[37m\u001b[0m \u001b[1m363s\u001b[0m 60ms/step - accuracy: 1.0000 - loss: 0.0000e+00 - val_accuracy: 1.0000 - val_loss: 0.0000e+00\n",
            "Epoch 21/30\n",
            "\u001b[1m5332/5332\u001b[0m \u001b[32m━━━━━━━━━━━━━━━━━━━━\u001b[0m\u001b[37m\u001b[0m \u001b[1m341s\u001b[0m 63ms/step - accuracy: 1.0000 - loss: 1.3783e-12 - val_accuracy: 1.0000 - val_loss: 0.0000e+00\n",
            "Epoch 22/30\n",
            "\u001b[1m5332/5332\u001b[0m \u001b[32m━━━━━━━━━━━━━━━━━━━━\u001b[0m\u001b[37m\u001b[0m \u001b[1m381s\u001b[0m 63ms/step - accuracy: 1.0000 - loss: 2.1411e-14 - val_accuracy: 1.0000 - val_loss: 0.0000e+00\n",
            "Epoch 23/30\n",
            "\u001b[1m5332/5332\u001b[0m \u001b[32m━━━━━━━━━━━━━━━━━━━━\u001b[0m\u001b[37m\u001b[0m \u001b[1m380s\u001b[0m 63ms/step - accuracy: 1.0000 - loss: 0.0000e+00 - val_accuracy: 1.0000 - val_loss: 0.0000e+00\n",
            "Epoch 24/30\n",
            "\u001b[1m5332/5332\u001b[0m \u001b[32m━━━━━━━━━━━━━━━━━━━━\u001b[0m\u001b[37m\u001b[0m \u001b[1m331s\u001b[0m 62ms/step - accuracy: 1.0000 - loss: 0.0000e+00 - val_accuracy: 1.0000 - val_loss: 0.0000e+00\n",
            "Epoch 25/30\n",
            "\u001b[1m5332/5332\u001b[0m \u001b[32m━━━━━━━━━━━━━━━━━━━━\u001b[0m\u001b[37m\u001b[0m \u001b[1m333s\u001b[0m 63ms/step - accuracy: 1.0000 - loss: 0.0000e+00 - val_accuracy: 1.0000 - val_loss: 0.0000e+00\n",
            "Epoch 26/30\n",
            "\u001b[1m5332/5332\u001b[0m \u001b[32m━━━━━━━━━━━━━━━━━━━━\u001b[0m\u001b[37m\u001b[0m \u001b[1m380s\u001b[0m 62ms/step - accuracy: 1.0000 - loss: 0.0000e+00 - val_accuracy: 1.0000 - val_loss: 0.0000e+00\n",
            "Epoch 27/30\n",
            "\u001b[1m5332/5332\u001b[0m \u001b[32m━━━━━━━━━━━━━━━━━━━━\u001b[0m\u001b[37m\u001b[0m \u001b[1m383s\u001b[0m 63ms/step - accuracy: 1.0000 - loss: 0.0000e+00 - val_accuracy: 1.0000 - val_loss: 0.0000e+00\n",
            "Epoch 28/30\n",
            "\u001b[1m5332/5332\u001b[0m \u001b[32m━━━━━━━━━━━━━━━━━━━━\u001b[0m\u001b[37m\u001b[0m \u001b[1m378s\u001b[0m 62ms/step - accuracy: 1.0000 - loss: 0.0000e+00 - val_accuracy: 1.0000 - val_loss: 0.0000e+00\n",
            "Epoch 29/30\n",
            "\u001b[1m5332/5332\u001b[0m \u001b[32m━━━━━━━━━━━━━━━━━━━━\u001b[0m\u001b[37m\u001b[0m \u001b[1m366s\u001b[0m 59ms/step - accuracy: 1.0000 - loss: 1.7423e-12 - val_accuracy: 1.0000 - val_loss: 0.0000e+00\n",
            "Epoch 30/30\n",
            "\u001b[1m5332/5332\u001b[0m \u001b[32m━━━━━━━━━━━━━━━━━━━━\u001b[0m\u001b[37m\u001b[0m \u001b[1m323s\u001b[0m 59ms/step - accuracy: 1.0000 - loss: 0.0000e+00 - val_accuracy: 1.0000 - val_loss: 0.0000e+00\n",
            "\u001b[1m1333/1333\u001b[0m \u001b[32m━━━━━━━━━━━━━━━━━━━━\u001b[0m\u001b[37m\u001b[0m \u001b[1m26s\u001b[0m 19ms/step - accuracy: 1.0000 - loss: 0.0000e+00\n",
            "Sleep Stage Classification Accuracy: 1.00\n"
          ]
        }
      ]
    },
    {
      "cell_type": "code",
      "source": [
        "# Save the entire model (architecture + weights + optimizer state)\n",
        "model.save(\"sleep_stage_lstm_model.h5\")"
      ],
      "metadata": {
        "colab": {
          "base_uri": "https://localhost:8080/"
        },
        "id": "35-nUAbTuQNk",
        "outputId": "a6758ff2-bc11-4d04-ef73-ad6cab30cad3"
      },
      "execution_count": null,
      "outputs": [
        {
          "output_type": "stream",
          "name": "stderr",
          "text": [
            "WARNING:absl:You are saving your model as an HDF5 file via `model.save()` or `keras.saving.save_model(model)`. This file format is considered legacy. We recommend using instead the native Keras format, e.g. `model.save('my_model.keras')` or `keras.saving.save_model(model, 'my_model.keras')`. \n"
          ]
        }
      ]
    },
    {
      "cell_type": "code",
      "source": [
        "from tensorflow.keras.models import load_model\n",
        "\n",
        "# Load the previously saved model\n",
        "model = load_model(\"sleep_stage_lstm_model.h5\")\n",
        "\n",
        "# Check model architecture\n",
        "model.summary()\n"
      ],
      "metadata": {
        "id": "AvqU73hW0FNl"
      },
      "execution_count": null,
      "outputs": []
    },
    {
      "cell_type": "code",
      "source": [
        "import numpy as np\n",
        "import pandas as pd\n",
        "import tensorflow as tf\n",
        "from tensorflow.keras.models import Sequential\n",
        "from tensorflow.keras.layers import LSTM, Dense, Dropout\n",
        "from tensorflow.keras.optimizers import Adam\n",
        "from sklearn.preprocessing import StandardScaler, LabelEncoder\n",
        "from sklearn.model_selection import train_test_split\n",
        "# -------------------------\n",
        "# Load & Preprocess Data\n",
        "# -------------------------\n",
        "df = pd.read_csv(\"/content/SC4002E0_comb.csv\")\n",
        "\n",
        "# Selecting relevant features\n",
        "features = ['time', 'EEG Fpz-Cz', 'EEG Pz-Oz', 'EOG horizontal', 'Resp oro-nasal',\n",
        "       'EMG submental', 'Temp rectal', 'Event marker']\n",
        "target_sleep_stage = \"sleep_stage\"  # Multi-class classification (Wake, Light, Deep, REM)\n",
        "\n",
        "# Encode Sleep Stage labels (e.g., Wake=0, Light=1, Deep=2, REM=3)\n",
        "label_encoder = LabelEncoder()\n",
        "df[target_sleep_stage] = label_encoder.fit_transform(df[target_sleep_stage])\n",
        "\n",
        "# Normalize features\n",
        "scaler = StandardScaler()\n",
        "df[features] = scaler.fit_transform(df[features])\n",
        "\n",
        "# Convert to numpy arrays\n",
        "X = df[features].values\n",
        "y_sleep_stage = df[target_sleep_stage].values  # Multi-class output\n",
        "\n",
        "# -------------------------\n",
        "# Reshape Data for LSTM\n",
        "# -------------------------\n",
        "SEQ_LENGTH = 30  # Use last 30 timesteps for prediction\n",
        "def create_sequences(X, y_sleep_stage, seq_length):\n",
        "    Xs, ys_sleep = [], []\n",
        "    for i in range(len(X) - seq_length):\n",
        "        Xs.append(X[i:i + seq_length])\n",
        "        ys_sleep.append(y_sleep_stage[i + seq_length])\n",
        "    return np.array(Xs), np.array(ys_sleep)\n",
        "\n",
        "X_seq, y_sleep_seq = create_sequences(X, y_sleep_stage, SEQ_LENGTH)\n",
        "\n",
        "# Split into train and test sets\n",
        "X_train, X_test, y_train, y_test = train_test_split(X_seq, y_sleep_seq, test_size=0.2, random_state=42)"
      ],
      "metadata": {
        "id": "hxRhHibC0Fjs",
        "colab": {
          "base_uri": "https://localhost:8080/",
          "height": 543
        },
        "outputId": "172c8416-b5b0-4ccf-80f0-6cef4833b663"
      },
      "execution_count": null,
      "outputs": [
        {
          "output_type": "error",
          "ename": "ParserError",
          "evalue": "Error tokenizing data. C error: Calling read(nbytes) on source failed. Try engine='python'.",
          "traceback": [
            "\u001b[0;31m---------------------------------------------------------------------------\u001b[0m",
            "\u001b[0;31mParserError\u001b[0m                               Traceback (most recent call last)",
            "\u001b[0;32m<ipython-input-1-3675f920f1d3>\u001b[0m in \u001b[0;36m<cell line: 0>\u001b[0;34m()\u001b[0m\n\u001b[1;32m     10\u001b[0m \u001b[0;31m# Load & Preprocess Data\u001b[0m\u001b[0;34m\u001b[0m\u001b[0;34m\u001b[0m\u001b[0m\n\u001b[1;32m     11\u001b[0m \u001b[0;31m# -------------------------\u001b[0m\u001b[0;34m\u001b[0m\u001b[0;34m\u001b[0m\u001b[0m\n\u001b[0;32m---> 12\u001b[0;31m \u001b[0mdf\u001b[0m \u001b[0;34m=\u001b[0m \u001b[0mpd\u001b[0m\u001b[0;34m.\u001b[0m\u001b[0mread_csv\u001b[0m\u001b[0;34m(\u001b[0m\u001b[0;34m\"/content/SC4002E0_comb.csv\"\u001b[0m\u001b[0;34m)\u001b[0m\u001b[0;34m\u001b[0m\u001b[0;34m\u001b[0m\u001b[0m\n\u001b[0m\u001b[1;32m     13\u001b[0m \u001b[0;34m\u001b[0m\u001b[0m\n\u001b[1;32m     14\u001b[0m \u001b[0;31m# Selecting relevant features\u001b[0m\u001b[0;34m\u001b[0m\u001b[0;34m\u001b[0m\u001b[0m\n",
            "\u001b[0;32m/usr/local/lib/python3.11/dist-packages/pandas/io/parsers/readers.py\u001b[0m in \u001b[0;36mread_csv\u001b[0;34m(filepath_or_buffer, sep, delimiter, header, names, index_col, usecols, dtype, engine, converters, true_values, false_values, skipinitialspace, skiprows, skipfooter, nrows, na_values, keep_default_na, na_filter, verbose, skip_blank_lines, parse_dates, infer_datetime_format, keep_date_col, date_parser, date_format, dayfirst, cache_dates, iterator, chunksize, compression, thousands, decimal, lineterminator, quotechar, quoting, doublequote, escapechar, comment, encoding, encoding_errors, dialect, on_bad_lines, delim_whitespace, low_memory, memory_map, float_precision, storage_options, dtype_backend)\u001b[0m\n\u001b[1;32m   1024\u001b[0m     \u001b[0mkwds\u001b[0m\u001b[0;34m.\u001b[0m\u001b[0mupdate\u001b[0m\u001b[0;34m(\u001b[0m\u001b[0mkwds_defaults\u001b[0m\u001b[0;34m)\u001b[0m\u001b[0;34m\u001b[0m\u001b[0;34m\u001b[0m\u001b[0m\n\u001b[1;32m   1025\u001b[0m \u001b[0;34m\u001b[0m\u001b[0m\n\u001b[0;32m-> 1026\u001b[0;31m     \u001b[0;32mreturn\u001b[0m \u001b[0m_read\u001b[0m\u001b[0;34m(\u001b[0m\u001b[0mfilepath_or_buffer\u001b[0m\u001b[0;34m,\u001b[0m \u001b[0mkwds\u001b[0m\u001b[0;34m)\u001b[0m\u001b[0;34m\u001b[0m\u001b[0;34m\u001b[0m\u001b[0m\n\u001b[0m\u001b[1;32m   1027\u001b[0m \u001b[0;34m\u001b[0m\u001b[0m\n\u001b[1;32m   1028\u001b[0m \u001b[0;34m\u001b[0m\u001b[0m\n",
            "\u001b[0;32m/usr/local/lib/python3.11/dist-packages/pandas/io/parsers/readers.py\u001b[0m in \u001b[0;36m_read\u001b[0;34m(filepath_or_buffer, kwds)\u001b[0m\n\u001b[1;32m    624\u001b[0m \u001b[0;34m\u001b[0m\u001b[0m\n\u001b[1;32m    625\u001b[0m     \u001b[0;32mwith\u001b[0m \u001b[0mparser\u001b[0m\u001b[0;34m:\u001b[0m\u001b[0;34m\u001b[0m\u001b[0;34m\u001b[0m\u001b[0m\n\u001b[0;32m--> 626\u001b[0;31m         \u001b[0;32mreturn\u001b[0m \u001b[0mparser\u001b[0m\u001b[0;34m.\u001b[0m\u001b[0mread\u001b[0m\u001b[0;34m(\u001b[0m\u001b[0mnrows\u001b[0m\u001b[0;34m)\u001b[0m\u001b[0;34m\u001b[0m\u001b[0;34m\u001b[0m\u001b[0m\n\u001b[0m\u001b[1;32m    627\u001b[0m \u001b[0;34m\u001b[0m\u001b[0m\n\u001b[1;32m    628\u001b[0m \u001b[0;34m\u001b[0m\u001b[0m\n",
            "\u001b[0;32m/usr/local/lib/python3.11/dist-packages/pandas/io/parsers/readers.py\u001b[0m in \u001b[0;36mread\u001b[0;34m(self, nrows)\u001b[0m\n\u001b[1;32m   1921\u001b[0m                     \u001b[0mcolumns\u001b[0m\u001b[0;34m,\u001b[0m\u001b[0;34m\u001b[0m\u001b[0;34m\u001b[0m\u001b[0m\n\u001b[1;32m   1922\u001b[0m                     \u001b[0mcol_dict\u001b[0m\u001b[0;34m,\u001b[0m\u001b[0;34m\u001b[0m\u001b[0;34m\u001b[0m\u001b[0m\n\u001b[0;32m-> 1923\u001b[0;31m                 \u001b[0;34m)\u001b[0m \u001b[0;34m=\u001b[0m \u001b[0mself\u001b[0m\u001b[0;34m.\u001b[0m\u001b[0m_engine\u001b[0m\u001b[0;34m.\u001b[0m\u001b[0mread\u001b[0m\u001b[0;34m(\u001b[0m  \u001b[0;31m# type: ignore[attr-defined]\u001b[0m\u001b[0;34m\u001b[0m\u001b[0;34m\u001b[0m\u001b[0m\n\u001b[0m\u001b[1;32m   1924\u001b[0m                     \u001b[0mnrows\u001b[0m\u001b[0;34m\u001b[0m\u001b[0;34m\u001b[0m\u001b[0m\n\u001b[1;32m   1925\u001b[0m                 )\n",
            "\u001b[0;32m/usr/local/lib/python3.11/dist-packages/pandas/io/parsers/c_parser_wrapper.py\u001b[0m in \u001b[0;36mread\u001b[0;34m(self, nrows)\u001b[0m\n\u001b[1;32m    232\u001b[0m         \u001b[0;32mtry\u001b[0m\u001b[0;34m:\u001b[0m\u001b[0;34m\u001b[0m\u001b[0;34m\u001b[0m\u001b[0m\n\u001b[1;32m    233\u001b[0m             \u001b[0;32mif\u001b[0m \u001b[0mself\u001b[0m\u001b[0;34m.\u001b[0m\u001b[0mlow_memory\u001b[0m\u001b[0;34m:\u001b[0m\u001b[0;34m\u001b[0m\u001b[0;34m\u001b[0m\u001b[0m\n\u001b[0;32m--> 234\u001b[0;31m                 \u001b[0mchunks\u001b[0m \u001b[0;34m=\u001b[0m \u001b[0mself\u001b[0m\u001b[0;34m.\u001b[0m\u001b[0m_reader\u001b[0m\u001b[0;34m.\u001b[0m\u001b[0mread_low_memory\u001b[0m\u001b[0;34m(\u001b[0m\u001b[0mnrows\u001b[0m\u001b[0;34m)\u001b[0m\u001b[0;34m\u001b[0m\u001b[0;34m\u001b[0m\u001b[0m\n\u001b[0m\u001b[1;32m    235\u001b[0m                 \u001b[0;31m# destructive to chunks\u001b[0m\u001b[0;34m\u001b[0m\u001b[0;34m\u001b[0m\u001b[0m\n\u001b[1;32m    236\u001b[0m                 \u001b[0mdata\u001b[0m \u001b[0;34m=\u001b[0m \u001b[0m_concatenate_chunks\u001b[0m\u001b[0;34m(\u001b[0m\u001b[0mchunks\u001b[0m\u001b[0;34m)\u001b[0m\u001b[0;34m\u001b[0m\u001b[0;34m\u001b[0m\u001b[0m\n",
            "\u001b[0;32mparsers.pyx\u001b[0m in \u001b[0;36mpandas._libs.parsers.TextReader.read_low_memory\u001b[0;34m()\u001b[0m\n",
            "\u001b[0;32mparsers.pyx\u001b[0m in \u001b[0;36mpandas._libs.parsers.TextReader._read_rows\u001b[0;34m()\u001b[0m\n",
            "\u001b[0;32mparsers.pyx\u001b[0m in \u001b[0;36mpandas._libs.parsers.TextReader._tokenize_rows\u001b[0;34m()\u001b[0m\n",
            "\u001b[0;32mparsers.pyx\u001b[0m in \u001b[0;36mpandas._libs.parsers.TextReader._check_tokenize_status\u001b[0;34m()\u001b[0m\n",
            "\u001b[0;32mparsers.pyx\u001b[0m in \u001b[0;36mpandas._libs.parsers.raise_parser_error\u001b[0;34m()\u001b[0m\n",
            "\u001b[0;31mParserError\u001b[0m: Error tokenizing data. C error: Calling read(nbytes) on source failed. Try engine='python'."
          ]
        }
      ]
    },
    {
      "cell_type": "code",
      "source": [
        "# Compile the model again (if needed)\n",
        "from tensorflow.keras.optimizers import Adam\n",
        "\n",
        "model.compile(optimizer=Adam(learning_rate=0.0001),  # Lower LR for fine-tuning\n",
        "              loss=\"sparse_categorical_crossentropy\",\n",
        "              metrics=[\"accuracy\"])\n",
        "\n",
        "# Train again on new data\n",
        "history = model.fit(X_train, y_train,\n",
        "                    epochs=15, batch_size=32,\n",
        "                    validation_data=(X_test,y_test))\n"
      ],
      "metadata": {
        "id": "MZR0ARVSuP_a"
      },
      "execution_count": null,
      "outputs": []
    },
    {
      "cell_type": "code",
      "source": [],
      "metadata": {
        "id": "Vmv_FtfusWx0"
      },
      "execution_count": null,
      "outputs": []
    },
    {
      "cell_type": "code",
      "source": [],
      "metadata": {
        "id": "HzcvMi6UsWuN"
      },
      "execution_count": null,
      "outputs": []
    },
    {
      "cell_type": "code",
      "source": [],
      "metadata": {
        "id": "MjbNfqs_sWrG"
      },
      "execution_count": null,
      "outputs": []
    },
    {
      "cell_type": "code",
      "source": [
        "# Save the retrained model\n",
        "model.save(\"sleep_stage_lstm_retrained.h5\")"
      ],
      "metadata": {
        "id": "7bHiSZWu3IeI"
      },
      "execution_count": null,
      "outputs": []
    },
    {
      "cell_type": "code",
      "source": [
        "# Notes  - pickle the label encoder and apply during retraining\n",
        "#        - try transformers instead of RNNs - LSTM"
      ],
      "metadata": {
        "id": "qp1ucSIwsX22"
      },
      "execution_count": null,
      "outputs": []
    },
    {
      "cell_type": "code",
      "source": [],
      "metadata": {
        "id": "bBG71B0QsXzY"
      },
      "execution_count": null,
      "outputs": []
    },
    {
      "cell_type": "code",
      "source": [
        "import numpy as np\n",
        "import pandas as pd\n",
        "import tensorflow as tf\n",
        "from tensorflow.keras.models import Sequential\n",
        "from tensorflow.keras.layers import LSTM, Dense, Dropout\n",
        "from sklearn.preprocessing import MinMaxScaler\n",
        "from sklearn.model_selection import train_test_split\n",
        "\n",
        "# Load the CSV file\n",
        "file_path = \"/content/1.csv\"\n",
        "df = pd.read_csv(file_path)\n",
        "\n",
        "# Select input features (EEG, oxygen, etc.)\n",
        "features = df.drop(columns=[\"SaO2\"])  # Excluding SaO2 as target\n",
        "target = df[\"SaO2\"]  # Predicting oxygen saturation (apnea indicator)\n",
        "\n",
        "# Normalize the data\n",
        "scaler = MinMaxScaler()\n",
        "features_scaled = scaler.fit_transform(features)\n",
        "\n",
        "# Reshape input for LSTM: (samples, timesteps, features)\n",
        "sequence_length = 10  # Using 10 timesteps for each prediction\n",
        "X, y = [], []\n",
        "for i in range(len(features_scaled) - sequence_length):\n",
        "    X.append(features_scaled[i : i + sequence_length])\n",
        "    y.append(target[i + sequence_length])\n",
        "\n",
        "X, y = np.array(X), np.array(y)\n",
        "\n",
        "# Split data into training and testing\n",
        "X_train, X_test, y_train, y_test = train_test_split(X, y, test_size=0.2, shuffle=False)\n",
        "\n",
        "# Build LSTM model\n",
        "model = Sequential([\n",
        "    LSTM(100, return_sequences=True, input_shape=(sequence_length, X.shape[2])),\n",
        "    Dropout(0.2),\n",
        "    LSTM(50, return_sequences=False),\n",
        "    Dropout(0.2),\n",
        "    Dense(25, activation=\"relu\"),\n",
        "    Dense(1, activation=\"linear\")  # Predicting continuous SaO2 values\n",
        "])\n",
        "\n",
        "# Compile model\n",
        "model.compile(optimizer=\"adam\", loss=\"mse\", metrics=[\"mae\"])\n",
        "\n",
        "# Train model\n",
        "model.fit(X_train, y_train, epochs=20, batch_size=32, validation_data=(X_test, y_test))\n",
        "\n",
        "# Save model\n",
        "model.save(\"/content/sleep_apnea_model_SaO2.h5\")\n",
        "\n",
        "# Predict on test set\n",
        "predictions = model.predict(X_test)\n",
        "\n",
        "# Display some results\n",
        "import matplotlib.pyplot as plt\n",
        "plt.plot(y_test[:100], label=\"True SaO2\")\n",
        "plt.plot(predictions[:100], label=\"Predicted SaO2\")\n",
        "plt.legend()\n",
        "plt.show()\n"
      ],
      "metadata": {
        "id": "TThAsPCQsXwb",
        "colab": {
          "base_uri": "https://localhost:8080/",
          "height": 1000
        },
        "outputId": "d6e2afe7-e1ad-416d-fccd-0044b60829c2"
      },
      "execution_count": null,
      "outputs": [
        {
          "output_type": "stream",
          "name": "stderr",
          "text": [
            "/usr/local/lib/python3.11/dist-packages/keras/src/layers/rnn/rnn.py:200: UserWarning: Do not pass an `input_shape`/`input_dim` argument to a layer. When using Sequential models, prefer using an `Input(shape)` object as the first layer in the model instead.\n",
            "  super().__init__(**kwargs)\n"
          ]
        },
        {
          "output_type": "stream",
          "name": "stdout",
          "text": [
            "Epoch 1/20\n",
            "\u001b[1m8250/8250\u001b[0m \u001b[32m━━━━━━━━━━━━━━━━━━━━\u001b[0m\u001b[37m\u001b[0m \u001b[1m67s\u001b[0m 8ms/step - loss: 587.7940 - mae: 12.6832 - val_loss: 5.5508 - val_mae: 2.0039\n",
            "Epoch 2/20\n",
            "\u001b[1m8250/8250\u001b[0m \u001b[32m━━━━━━━━━━━━━━━━━━━━\u001b[0m\u001b[37m\u001b[0m \u001b[1m80s\u001b[0m 8ms/step - loss: 44.1187 - mae: 4.6939 - val_loss: 11.4438 - val_mae: 2.9768\n",
            "Epoch 3/20\n",
            "\u001b[1m8250/8250\u001b[0m \u001b[32m━━━━━━━━━━━━━━━━━━━━\u001b[0m\u001b[37m\u001b[0m \u001b[1m62s\u001b[0m 7ms/step - loss: 22.0286 - mae: 2.6238 - val_loss: 6.7881 - val_mae: 2.2559\n",
            "Epoch 4/20\n",
            "\u001b[1m8250/8250\u001b[0m \u001b[32m━━━━━━━━━━━━━━━━━━━━\u001b[0m\u001b[37m\u001b[0m \u001b[1m82s\u001b[0m 8ms/step - loss: 17.6894 - mae: 1.9642 - val_loss: 5.7243 - val_mae: 2.0403\n",
            "Epoch 5/20\n",
            "\u001b[1m8250/8250\u001b[0m \u001b[32m━━━━━━━━━━━━━━━━━━━━\u001b[0m\u001b[37m\u001b[0m \u001b[1m86s\u001b[0m 8ms/step - loss: 17.3678 - mae: 1.9467 - val_loss: 6.5075 - val_mae: 2.1970\n",
            "Epoch 6/20\n",
            "\u001b[1m8250/8250\u001b[0m \u001b[32m━━━━━━━━━━━━━━━━━━━━\u001b[0m\u001b[37m\u001b[0m \u001b[1m63s\u001b[0m 8ms/step - loss: 17.8233 - mae: 1.9512 - val_loss: 6.5708 - val_mae: 2.2107\n",
            "Epoch 7/20\n",
            "\u001b[1m8250/8250\u001b[0m \u001b[32m━━━━━━━━━━━━━━━━━━━━\u001b[0m\u001b[37m\u001b[0m \u001b[1m66s\u001b[0m 8ms/step - loss: 18.3976 - mae: 1.9638 - val_loss: 5.7475 - val_mae: 2.0447\n",
            "Epoch 8/20\n",
            "\u001b[1m8250/8250\u001b[0m \u001b[32m━━━━━━━━━━━━━━━━━━━━\u001b[0m\u001b[37m\u001b[0m \u001b[1m81s\u001b[0m 8ms/step - loss: 17.4851 - mae: 1.9531 - val_loss: 6.0809 - val_mae: 2.1018\n",
            "Epoch 9/20\n",
            "\u001b[1m8250/8250\u001b[0m \u001b[32m━━━━━━━━━━━━━━━━━━━━\u001b[0m\u001b[37m\u001b[0m \u001b[1m82s\u001b[0m 8ms/step - loss: 17.2506 - mae: 1.9428 - val_loss: 5.7995 - val_mae: 2.0545\n",
            "Epoch 10/20\n",
            "\u001b[1m8250/8250\u001b[0m \u001b[32m━━━━━━━━━━━━━━━━━━━━\u001b[0m\u001b[37m\u001b[0m \u001b[1m83s\u001b[0m 8ms/step - loss: 17.6816 - mae: 1.9503 - val_loss: 5.5077 - val_mae: 1.9938\n",
            "Epoch 11/20\n",
            "\u001b[1m8250/8250\u001b[0m \u001b[32m━━━━━━━━━━━━━━━━━━━━\u001b[0m\u001b[37m\u001b[0m \u001b[1m67s\u001b[0m 8ms/step - loss: 16.9299 - mae: 1.9372 - val_loss: 6.2948 - val_mae: 2.1483\n",
            "Epoch 12/20\n",
            "\u001b[1m8250/8250\u001b[0m \u001b[32m━━━━━━━━━━━━━━━━━━━━\u001b[0m\u001b[37m\u001b[0m \u001b[1m63s\u001b[0m 8ms/step - loss: 17.2521 - mae: 1.9454 - val_loss: 6.1483 - val_mae: 2.1123\n",
            "Epoch 13/20\n",
            "\u001b[1m8250/8250\u001b[0m \u001b[32m━━━━━━━━━━━━━━━━━━━━\u001b[0m\u001b[37m\u001b[0m \u001b[1m63s\u001b[0m 8ms/step - loss: 18.6324 - mae: 1.9697 - val_loss: 5.9778 - val_mae: 2.0853\n",
            "Epoch 14/20\n",
            "\u001b[1m8250/8250\u001b[0m \u001b[32m━━━━━━━━━━━━━━━━━━━━\u001b[0m\u001b[37m\u001b[0m \u001b[1m68s\u001b[0m 8ms/step - loss: 18.0066 - mae: 1.9601 - val_loss: 5.5199 - val_mae: 1.9967\n",
            "Epoch 15/20\n",
            "\u001b[1m8250/8250\u001b[0m \u001b[32m━━━━━━━━━━━━━━━━━━━━\u001b[0m\u001b[37m\u001b[0m \u001b[1m68s\u001b[0m 8ms/step - loss: 18.6622 - mae: 1.9631 - val_loss: 6.1713 - val_mae: 2.1181\n",
            "Epoch 16/20\n",
            "\u001b[1m8250/8250\u001b[0m \u001b[32m━━━━━━━━━━━━━━━━━━━━\u001b[0m\u001b[37m\u001b[0m \u001b[1m78s\u001b[0m 8ms/step - loss: 18.0809 - mae: 1.9672 - val_loss: 5.4060 - val_mae: 1.9677\n",
            "Epoch 17/20\n",
            "\u001b[1m8250/8250\u001b[0m \u001b[32m━━━━━━━━━━━━━━━━━━━━\u001b[0m\u001b[37m\u001b[0m \u001b[1m65s\u001b[0m 8ms/step - loss: 17.4149 - mae: 1.9437 - val_loss: 5.7259 - val_mae: 2.0406\n",
            "Epoch 18/20\n",
            "\u001b[1m8250/8250\u001b[0m \u001b[32m━━━━━━━━━━━━━━━━━━━━\u001b[0m\u001b[37m\u001b[0m \u001b[1m67s\u001b[0m 8ms/step - loss: 18.6123 - mae: 1.9639 - val_loss: 5.8628 - val_mae: 2.0658\n",
            "Epoch 19/20\n",
            "\u001b[1m8250/8250\u001b[0m \u001b[32m━━━━━━━━━━━━━━━━━━━━\u001b[0m\u001b[37m\u001b[0m \u001b[1m79s\u001b[0m 8ms/step - loss: 17.6497 - mae: 1.9545 - val_loss: 5.4073 - val_mae: 1.9680\n",
            "Epoch 20/20\n",
            "\u001b[1m8250/8250\u001b[0m \u001b[32m━━━━━━━━━━━━━━━━━━━━\u001b[0m\u001b[37m\u001b[0m \u001b[1m67s\u001b[0m 8ms/step - loss: 17.6070 - mae: 1.9424 - val_loss: 6.0613 - val_mae: 2.0987\n"
          ]
        },
        {
          "output_type": "stream",
          "name": "stderr",
          "text": [
            "WARNING:absl:You are saving your model as an HDF5 file via `model.save()` or `keras.saving.save_model(model)`. This file format is considered legacy. We recommend using instead the native Keras format, e.g. `model.save('my_model.keras')` or `keras.saving.save_model(model, 'my_model.keras')`. \n"
          ]
        },
        {
          "output_type": "stream",
          "name": "stdout",
          "text": [
            "\u001b[1m2063/2063\u001b[0m \u001b[32m━━━━━━━━━━━━━━━━━━━━\u001b[0m\u001b[37m\u001b[0m \u001b[1m5s\u001b[0m 2ms/step\n"
          ]
        },
        {
          "output_type": "display_data",
          "data": {
            "text/plain": [
              "<Figure size 640x480 with 1 Axes>"
            ],
            "image/png": "[encoded data removed]"
          },
          "metadata": {}
        }
      ]
    },
    {
      "cell_type": "code",
      "source": [],
      "metadata": {
        "id": "uevEWn6VsXtI"
      },
      "execution_count": null,
      "outputs": []
    }
  ]
}